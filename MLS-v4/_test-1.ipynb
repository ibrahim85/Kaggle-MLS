{
 "cells": [
  {
   "cell_type": "code",
   "execution_count": 187,
   "metadata": {
    "collapsed": false
   },
   "outputs": [],
   "source": [
    "import pandas as pd\n",
    "import numpy as np\n",
    "import matplotlib.pyplot as plt\n",
    "%matplotlib inline\n",
    "import sklearn.cross_validation as skcv"
   ]
  },
  {
   "cell_type": "code",
   "execution_count": 188,
   "metadata": {
    "collapsed": true
   },
   "outputs": [],
   "source": [
    "tr_df = pd.read_csv('./simple_train.csv')\n",
    "tst_df = pd.read_csv('./simple_test.csv')"
   ]
  },
  {
   "cell_type": "code",
   "execution_count": 189,
   "metadata": {
    "collapsed": false
   },
   "outputs": [],
   "source": [
    "# scale fs\n",
    "m = max(max(tr_df.file_size.values),  max(tst_df.file_size.values))\n",
    "tr_df.file_size = [float(x)/m for x in tr_df.file_size]\n",
    "tst_df.file_size = [float(x)/m for x in tst_df.file_size]"
   ]
  },
  {
   "cell_type": "code",
   "execution_count": 190,
   "metadata": {
    "collapsed": true
   },
   "outputs": [],
   "source": [
    "def conv_df(df):\n",
    "    d = df.as_matrix(columns=[\n",
    "            'avg_0', 'avg_1', 'avg_2', 'avg_3', 'avg_4', 'avg_5', 'avg_6', 'avg_7',\n",
    "            'avg_8', 'avg_9', 'avg_10', 'avg_11', 'avg_12', 'avg_13', 'avg_14', 'avg_15',\n",
    "            'file_size'\n",
    "    ])\n",
    "\n",
    "    d = np.hstack((np.zeros([len(d), 3]), d))\n",
    "\n",
    "    # vectorize patients\n",
    "    for i in range(len(d)):\n",
    "        p_ix = int(df.ix[i].patient_id - 1)\n",
    "        d[i][p_ix] = 1.\n",
    "        \n",
    "    return np.array(d, dtype=np.float32)"
   ]
  },
  {
   "cell_type": "code",
   "execution_count": 191,
   "metadata": {
    "collapsed": false
   },
   "outputs": [],
   "source": [
    "X = conv_df(tr_df)\n",
    "y = np.array([[x, 1. - x] for x in tr_df.result], dtype=np.float32)"
   ]
  },
  {
   "cell_type": "code",
   "execution_count": 192,
   "metadata": {
    "collapsed": true
   },
   "outputs": [],
   "source": [
    "X_eval = conv_df(tst_df)\n",
    "files_eval = [str(x)[0] + '_' + str(int(str(x)[1:])) + '.mat'  for x in tst_df.Id]"
   ]
  },
  {
   "cell_type": "code",
   "execution_count": 193,
   "metadata": {
    "collapsed": false
   },
   "outputs": [],
   "source": [
    "X_train, X_test, y_train, y_test = \\\n",
    "    skcv.train_test_split(X, y, test_size=.2)"
   ]
  },
  {
   "cell_type": "code",
   "execution_count": 207,
   "metadata": {
    "collapsed": false
   },
   "outputs": [],
   "source": [
    "import keras\n",
    "from keras.models import Sequential\n",
    "from keras.layers import Dense, Dropout\n",
    "from keras.callbacks import TensorBoard"
   ]
  },
  {
   "cell_type": "code",
   "execution_count": 214,
   "metadata": {
    "collapsed": false
   },
   "outputs": [],
   "source": [
    "model = Sequential()\n",
    "model.add(Dense(128, input_dim=X.shape[1], activation='tanh'))\n",
    "model.add(Dense(2, activation='softmax'))"
   ]
  },
  {
   "cell_type": "code",
   "execution_count": 215,
   "metadata": {
    "collapsed": true
   },
   "outputs": [],
   "source": [
    "model.compile(loss='binary_crossentropy', optimizer='SGD')"
   ]
  },
  {
   "cell_type": "code",
   "execution_count": 217,
   "metadata": {
    "collapsed": false
   },
   "outputs": [],
   "source": [
    "hist = model.fit(\n",
    "    X_train,\n",
    "    y_train,\n",
    "    batch_size=1024,\n",
    "    nb_epoch=1000,\n",
    "    validation_data=(X_test, y_test),\n",
    "    shuffle=True,\n",
    "    verbose=False,\n",
    "    callbacks=[\n",
    "#         keras.callbacks.ModelCheckpoint(\n",
    "#             'out/models/j-e{epoch:02d}-l{loss:.5f}.hdf5', monitor='loss', verbose=1,\n",
    "#             save_best_only=False, save_weights_only=False, mode='auto'),\n",
    "        TensorBoard(log_dir='/tmp/tf-mls-4-b')\n",
    "    ]\n",
    ")"
   ]
  },
  {
   "cell_type": "code",
   "execution_count": 218,
   "metadata": {
    "collapsed": true
   },
   "outputs": [],
   "source": [
    "yp = model.predict(X_test)"
   ]
  },
  {
   "cell_type": "code",
   "execution_count": 219,
   "metadata": {
    "collapsed": false
   },
   "outputs": [
    {
     "data": {
      "text/plain": [
       "array([[ 0.06476003,  0.93523997],\n",
       "       [ 0.08470138,  0.91529858],\n",
       "       [ 0.06276607,  0.93723392],\n",
       "       ..., \n",
       "       [ 0.06823567,  0.9317643 ],\n",
       "       [ 0.07217414,  0.92782587],\n",
       "       [ 0.07686706,  0.92313296]], dtype=float32)"
      ]
     },
     "execution_count": 219,
     "metadata": {},
     "output_type": "execute_result"
    }
   ],
   "source": [
    "yp"
   ]
  },
  {
   "cell_type": "code",
   "execution_count": 220,
   "metadata": {
    "collapsed": false
   },
   "outputs": [
    {
     "data": {
      "text/plain": [
       "(array([  11.,   86.,  160.,  261.,  366.,   92.,   49.,   32.,   30.,\n",
       "          22.,   12.,    7.,    9.,   14.,   19.,   15.,   17.,    5.,\n",
       "           0.,    2.]),\n",
       " array([ 0.01189387,  0.02425715,  0.03662044,  0.04898373,  0.06134701,\n",
       "         0.0737103 ,  0.08607358,  0.09843687,  0.11080016,  0.12316344,\n",
       "         0.13552673,  0.14789002,  0.1602533 ,  0.17261659,  0.18497988,\n",
       "         0.19734316,  0.20970645,  0.22206974,  0.23443302,  0.24679631,\n",
       "         0.25915959]),\n",
       " <a list of 20 Patch objects>)"
      ]
     },
     "execution_count": 220,
     "metadata": {},
     "output_type": "execute_result"
    },
    {
     "data": {
      "image/png": "[encoded data removed]",
      "text/plain": [
       "<matplotlib.figure.Figure at 0x7fcec221da10>"
      ]
     },
     "metadata": {},
     "output_type": "display_data"
    }
   ],
   "source": [
    "plt.hist(yp.T[0], bins=20)"
   ]
  },
  {
   "cell_type": "code",
   "execution_count": 221,
   "metadata": {
    "collapsed": false
   },
   "outputs": [
    {
     "name": "stdout",
     "output_type": "stream",
     "text": [
      "6016/6126 [============================>.] - ETA: 0s"
     ]
    }
   ],
   "source": [
    "y_eval = model.predict(X_eval, verbose=True)"
   ]
  },
  {
   "cell_type": "code",
   "execution_count": 222,
   "metadata": {
    "collapsed": false
   },
   "outputs": [
    {
     "data": {
      "text/plain": [
       "(array([  8.50000000e+01,   1.23500000e+03,   2.26700000e+03,\n",
       "          1.14500000e+03,   3.78000000e+02,   1.99000000e+02,\n",
       "          1.30000000e+02,   1.01000000e+02,   1.62000000e+02,\n",
       "          1.38000000e+02,   1.40000000e+02,   9.30000000e+01,\n",
       "          3.90000000e+01,   4.00000000e+00,   4.00000000e+00,\n",
       "          3.00000000e+00,   1.00000000e+00,   1.00000000e+00,\n",
       "          0.00000000e+00,   1.00000000e+00]),\n",
       " array([ 0.0056982 ,  0.02610194,  0.04650568,  0.06690942,  0.08731315,\n",
       "         0.10771689,  0.12812063,  0.14852437,  0.16892811,  0.18933185,\n",
       "         0.20973559,  0.23013932,  0.25054306,  0.2709468 ,  0.29135054,\n",
       "         0.31175428,  0.33215802,  0.35256175,  0.37296549,  0.39336923,\n",
       "         0.41377297]),\n",
       " <a list of 20 Patch objects>)"
      ]
     },
     "execution_count": 222,
     "metadata": {},
     "output_type": "execute_result"
    },
    {
     "data": {
      "image/png": "[encoded data removed]",
      "text/plain": [
       "<matplotlib.figure.Figure at 0x7fcec0e1c210>"
      ]
     },
     "metadata": {},
     "output_type": "display_data"
    }
   ],
   "source": [
    "plt.hist(y_eval.T[0], bins=20)"
   ]
  },
  {
   "cell_type": "code",
   "execution_count": 226,
   "metadata": {
    "collapsed": false
   },
   "outputs": [],
   "source": [
    "res_df = pd.DataFrame({'File': files_eval, 'Class': y_eval.T[0]})"
   ]
  },
  {
   "cell_type": "code",
   "execution_count": 227,
   "metadata": {
    "collapsed": true
   },
   "outputs": [],
   "source": [
    "res_df.to_csv('subm-k.csv', index=False, columns=['File', 'Class'], float_format='%.8f')"
   ]
  },
  {
   "cell_type": "code",
   "execution_count": null,
   "metadata": {
    "collapsed": true
   },
   "outputs": [],
   "source": []
  }
 ],
 "metadata": {
  "kernelspec": {
   "display_name": "Python 2",
   "language": "python",
   "name": "python2"
  },
  "language_info": {
   "codemirror_mode": {
    "name": "ipython",
    "version": 2
   },
   "file_extension": ".py",
   "mimetype": "text/x-python",
   "name": "python",
   "nbconvert_exporter": "python",
   "pygments_lexer": "ipython2",
   "version": "2.7.6"
  }
 },
 "nbformat": 4,
 "nbformat_minor": 1
}
