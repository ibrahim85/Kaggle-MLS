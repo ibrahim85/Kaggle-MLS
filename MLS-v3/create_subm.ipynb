{
 "cells": [
  {
   "cell_type": "code",
   "execution_count": 10,
   "metadata": {
    "collapsed": false
   },
   "outputs": [],
   "source": [
    "import re\n",
    "import keras\n",
    "import pandas as pd\n",
    "import numpy as np\n",
    "from tqdm import tqdm\n",
    "import matplotlib.pyplot as plt\n",
    "%matplotlib inline"
   ]
  },
  {
   "cell_type": "code",
   "execution_count": 38,
   "metadata": {
    "collapsed": true
   },
   "outputs": [],
   "source": [
    "MODEL_FILE = 'out/models/c-e298-l=0.23930-vl=0.25517.h5'\n",
    "BOTTLENECKS_DIR = 'out/bottlenecks'\n",
    "SAMPLE_SIZE = 515\n",
    "\n",
    "PATIENTS_ENCODING = {\n",
    "    '1': [1.,0.,0.],\n",
    "    '2': [0.,1.,0.],\n",
    "    '3': [0.,0.,1.]\n",
    "}"
   ]
  },
  {
   "cell_type": "code",
   "execution_count": 39,
   "metadata": {
    "collapsed": false
   },
   "outputs": [],
   "source": [
    "test_files = pd.read_csv('sample_submission.csv').File.values\n",
    "model = keras.models.load_model(MODEL_FILE)"
   ]
  },
  {
   "cell_type": "code",
   "execution_count": 40,
   "metadata": {
    "collapsed": false
   },
   "outputs": [],
   "source": [
    "def process_batch(files, samples, model, res_df=None):\n",
    "    \n",
    "    samples = np.array(samples, dtype=np.float32).reshape((-1, SAMPLE_SIZE))\n",
    "    y_p = model.predict(samples, verbose=False, batch_size=32)\n",
    "    batch_df = pd.DataFrame({'File': files, 'Class': y_p.T[0]})\n",
    "\n",
    "    if res_df is None:\n",
    "        return batch_df\n",
    "    else:\n",
    "        return res_df.append(batch_df)"
   ]
  },
  {
   "cell_type": "code",
   "execution_count": 41,
   "metadata": {
    "collapsed": false
   },
   "outputs": [
    {
     "name": "stderr",
     "output_type": "stream",
     "text": [
      "100%|██████████| 6126/6126 [00:01<00:00, 5047.02it/s]\n"
     ]
    }
   ],
   "source": [
    "BATCH_SIZE = 500\n",
    "batch_files = []\n",
    "batch_samples = []\n",
    "res_df = None\n",
    "\n",
    "for f in tqdm(test_files):\n",
    "    \n",
    "    fid = re.findall(r'(.+)\\.mat$', f)[0]\n",
    "    batch_files.append(f)\n",
    "    \n",
    "    bn_f = BOTTLENECKS_DIR + '/' + fid + '.npy'\n",
    "    bn = np.load(bn_f)\n",
    "    \n",
    "    patient = fid[0]\n",
    "    patient = PATIENTS_ENCODING[patient]\n",
    "    \n",
    "    sample = np.concatenate((patient, bn.flatten())).astype(np.float32)\n",
    "\n",
    "    batch_samples.append(sample)\n",
    "    \n",
    "    if len(batch_files) == BATCH_SIZE:\n",
    "        res_df = process_batch(batch_files, batch_samples, model, res_df)\n",
    "        batch_files = []\n",
    "        batch_samples = []\n",
    "\n",
    "if len(batch_files):\n",
    "    res_df = process_batch(batch_files, batch_samples, model, res_df)"
   ]
  },
  {
   "cell_type": "code",
   "execution_count": 42,
   "metadata": {
    "collapsed": false
   },
   "outputs": [],
   "source": [
    "res_df.to_csv('subm-f.csv', index=False, columns=['File', 'Class'], float_format='%.8f')"
   ]
  },
  {
   "cell_type": "code",
   "execution_count": 43,
   "metadata": {
    "collapsed": false
   },
   "outputs": [
    {
     "data": {
      "text/plain": [
       "(array([ 2513.,  3613.]),\n",
       " array([  9.11439747e-06,   6.90888141e-02,   1.38168514e-01]),\n",
       " <a list of 2 Patch objects>)"
      ]
     },
     "execution_count": 43,
     "metadata": {},
     "output_type": "execute_result"
    },
    {
     "data": {
      "image/png": "[encoded data removed]",
      "text/plain": [
       "<matplotlib.figure.Figure at 0x7f59a02c0a90>"
      ]
     },
     "metadata": {},
     "output_type": "display_data"
    }
   ],
   "source": [
    "plt.hist(res_df.Class.values, bins=2)"
   ]
  },
  {
   "cell_type": "code",
   "execution_count": 44,
   "metadata": {
    "collapsed": false
   },
   "outputs": [
    {
     "data": {
      "text/plain": [
       "[<matplotlib.lines.Line2D at 0x7f5991fb9310>]"
      ]
     },
     "execution_count": 44,
     "metadata": {},
     "output_type": "execute_result"
    },
    {
     "data": {
      "image/png": "[encoded data removed]",
      "text/plain": [
       "<matplotlib.figure.Figure at 0x7f5992095350>"
      ]
     },
     "metadata": {},
     "output_type": "display_data"
    }
   ],
   "source": [
    "plt.plot(res_df.Class.values)"
   ]
  },
  {
   "cell_type": "code",
   "execution_count": null,
   "metadata": {
    "collapsed": true
   },
   "outputs": [],
   "source": []
  }
 ],
 "metadata": {
  "kernelspec": {
   "display_name": "Python 2",
   "language": "python",
   "name": "python2"
  },
  "language_info": {
   "codemirror_mode": {
    "name": "ipython",
    "version": 2
   },
   "file_extension": ".py",
   "mimetype": "text/x-python",
   "name": "python",
   "nbconvert_exporter": "python",
   "pygments_lexer": "ipython2",
   "version": "2.7.6"
  }
 },
 "nbformat": 4,
 "nbformat_minor": 1
}
