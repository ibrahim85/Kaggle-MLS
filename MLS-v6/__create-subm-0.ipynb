{
 "cells": [
  {
   "cell_type": "code",
   "execution_count": 1,
   "metadata": {
    "collapsed": false
   },
   "outputs": [
    {
     "name": "stderr",
     "output_type": "stream",
     "text": [
      "Using TensorFlow backend.\n"
     ]
    }
   ],
   "source": [
    "import re\n",
    "import keras\n",
    "import pandas as pd\n",
    "import numpy as np\n",
    "from tqdm import tqdm\n",
    "import matplotlib.pyplot as plt\n",
    "%matplotlib inline"
   ]
  },
  {
   "cell_type": "code",
   "execution_count": 2,
   "metadata": {
    "collapsed": true
   },
   "outputs": [],
   "source": [
    "N_SAMPLES = 240000\n",
    "N_CHANNELS = 16\n",
    "MODEL_FILE = 'out/models/b-f3-e10-auc0.62391'\n",
    "WAVEFORMS_DIR = 'out/waveforms'"
   ]
  },
  {
   "cell_type": "code",
   "execution_count": 3,
   "metadata": {
    "collapsed": false
   },
   "outputs": [],
   "source": [
    "test_files = pd.read_csv('sample_submission.csv').File.values\n",
    "model = keras.models.load_model(MODEL_FILE)"
   ]
  },
  {
   "cell_type": "code",
   "execution_count": 4,
   "metadata": {
    "collapsed": false
   },
   "outputs": [],
   "source": [
    "def process_batch(files, waves, model, res_df=None):\n",
    "    waves = np.array(waves, dtype=np.float32).reshape(-1, N_CHANNELS, N_SAMPLES, 1)\n",
    "    y_p = model.predict(waves, verbose=False, batch_size=2)\n",
    "    batch_df = pd.DataFrame({'File': files, 'Class': y_p.T[0]})\n",
    "\n",
    "    if res_df is None:\n",
    "        return batch_df\n",
    "    else:\n",
    "        return res_df.append(batch_df)"
   ]
  },
  {
   "cell_type": "code",
   "execution_count": 5,
   "metadata": {
    "collapsed": false
   },
   "outputs": [
    {
     "name": "stderr",
     "output_type": "stream",
     "text": [
      "100%|██████████| 6126/6126 [37:07<00:00,  4.32it/s]\n"
     ]
    }
   ],
   "source": [
    "BATCH_SIZE = 100\n",
    "batch_files = []\n",
    "batch_waves = []\n",
    "res_df = None\n",
    "\n",
    "for f in tqdm(test_files):\n",
    "    \n",
    "    fid = re.findall(r'(.+)\\.mat$', f)[0]\n",
    "    batch_files.append(f)\n",
    "    \n",
    "    # read wave\n",
    "    wave_file = WAVEFORMS_DIR + '/' + fid + '.npy'\n",
    "    wave = np.load(wave_file)\n",
    "    batch_waves.append(wave)\n",
    "    \n",
    "    if len(batch_files) == BATCH_SIZE:\n",
    "        res_df = process_batch(batch_files, batch_waves, model, res_df)\n",
    "        batch_files = []\n",
    "        batch_waves = []\n",
    "\n",
    "if len(batch_files):\n",
    "    res_df = process_batch(batch_files, batch_waves, model, res_df)"
   ]
  },
  {
   "cell_type": "code",
   "execution_count": 6,
   "metadata": {
    "collapsed": false
   },
   "outputs": [],
   "source": [
    "res_df.to_csv('subm-c.csv', index=False, columns=['File', 'Class'], float_format='%.8f')"
   ]
  },
  {
   "cell_type": "code",
   "execution_count": 7,
   "metadata": {
    "collapsed": false
   },
   "outputs": [
    {
     "data": {
      "text/plain": [
       "(array([ 5957.,   169.]),\n",
       " array([  2.85748479e-06,   1.47301538e-01,   2.94600219e-01]),\n",
       " <a list of 2 Patch objects>)"
      ]
     },
     "execution_count": 7,
     "metadata": {},
     "output_type": "execute_result"
    },
    {
     "data": {
      "image/png": "[encoded data removed]",
      "text/plain": [
       "<matplotlib.figure.Figure at 0x7f84115ecf10>"
      ]
     },
     "metadata": {},
     "output_type": "display_data"
    }
   ],
   "source": [
    "plt.hist(res_df.Class.values, bins=2)"
   ]
  },
  {
   "cell_type": "code",
   "execution_count": null,
   "metadata": {
    "collapsed": true
   },
   "outputs": [],
   "source": []
  }
 ],
 "metadata": {
  "kernelspec": {
   "display_name": "Python 2",
   "language": "python",
   "name": "python2"
  },
  "language_info": {
   "codemirror_mode": {
    "name": "ipython",
    "version": 2
   },
   "file_extension": ".py",
   "mimetype": "text/x-python",
   "name": "python",
   "nbconvert_exporter": "python",
   "pygments_lexer": "ipython2",
   "version": "2.7.6"
  }
 },
 "nbformat": 4,
 "nbformat_minor": 1
}
