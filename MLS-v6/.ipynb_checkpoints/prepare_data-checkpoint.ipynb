{
 "cells": [
  {
   "cell_type": "code",
   "execution_count": 1,
   "metadata": {
    "collapsed": false
   },
   "outputs": [],
   "source": [
    "import os\n",
    "import re\n",
    "import time\n",
    "import numpy as np\n",
    "from scipy import io\n",
    "from tqdm import tqdm\n",
    "from scipy import signal\n",
    "import matplotlib.pyplot as plt\n",
    "%matplotlib inline\n",
    "import pandas as pd"
   ]
  },
  {
   "cell_type": "code",
   "execution_count": 12,
   "metadata": {
    "collapsed": true
   },
   "outputs": [],
   "source": [
    "OUTPUT_DIRS = {\n",
    "    'waveforms': 'out/waveforms',\n",
    "    'cache': 'out/'\n",
    "}\n",
    "\n",
    "N_SAMPLES = 240000\n",
    "SAMPLING_RATE = 400\n",
    "N_CHANNELS = 16"
   ]
  },
  {
   "cell_type": "code",
   "execution_count": 30,
   "metadata": {
    "collapsed": false
   },
   "outputs": [],
   "source": [
    "# make sure output dirs exist\n",
    "for v in OUTPUT_DIRS.values(): \n",
    "    if not os.path.isdir(v): \n",
    "        os.makedirs(v)"
   ]
  },
  {
   "cell_type": "code",
   "execution_count": 15,
   "metadata": {
    "collapsed": true
   },
   "outputs": [],
   "source": [
    "def read_mat(f):\n",
    "    mat = io.loadmat(f)\n",
    "    \n",
    "    sampling_rate = int(mat['dataStruct'][0, 0][1][0, 0])\n",
    "    n_samples = int(mat['dataStruct'][0, 0][2][0, 0])\n",
    "    ch_indexes = np.int8(mat['dataStruct'][0, 0][3][0])\n",
    "\n",
    "    data = mat['dataStruct'][0, 0][0].T\n",
    "    \n",
    "    waves = np.zeros([len(ch_indexes), n_samples], dtype=np.float32)\n",
    "    \n",
    "    for i in range(len(ch_indexes)):\n",
    "        waves[i] = data[ch_indexes[i] - 1]  \n",
    "        \n",
    "    return waves"
   ]
  },
  {
   "cell_type": "code",
   "execution_count": 22,
   "metadata": {
    "collapsed": true
   },
   "outputs": [],
   "source": [
    "input_df = pd.read_csv('out/input_files.csv', index_col='file')\n",
    "all_paths = input_df['path'].tolist()"
   ]
  },
  {
   "cell_type": "code",
   "execution_count": 23,
   "metadata": {
    "collapsed": false
   },
   "outputs": [],
   "source": [
    "def compute_metrics(files=all_paths):\n",
    "    n_waves = 0\n",
    "    avg_wave = np.zeros(N_SAMPLES, dtype=np.float32)\n",
    "    maxs = []\n",
    "    mins = []\n",
    "\n",
    "    for f in tqdm(files):\n",
    "        n_waves += 1\n",
    "        waves = read_mat(f)\n",
    "        \n",
    "        # mins/maxs\n",
    "        maxs.append(np.max(waves, axis=1))\n",
    "        mins.append(np.min(waves, axis=1))\n",
    "        \n",
    "        # mean, median\n",
    "        \n",
    "        # compute avg wave\n",
    "        cur_avg_wave = np.divide(np.sum(waves, axis=0), len(waves))\n",
    "        sum_all_waves = np.sum((np.multiply(avg_wave, n_waves - 1), cur_avg_wave), axis=0)\n",
    "        avg_wave = np.divide(sum_all_waves, n_waves)\n",
    "        \n",
    "    return np.array(mins, dtype=np.float32),\\\n",
    "        np.array(maxs, dtype=np.float32),\\\n",
    "        avg_wave"
   ]
  },
  {
   "cell_type": "code",
   "execution_count": 24,
   "metadata": {
    "collapsed": false
   },
   "outputs": [],
   "source": [
    "metrics_file = OUTPUT_DIRS['cache'] + '/metrics.npy'"
   ]
  },
  {
   "cell_type": "code",
   "execution_count": 25,
   "metadata": {
    "collapsed": false
   },
   "outputs": [
    {
     "name": "stdout",
     "output_type": "stream",
     "text": [
      "Gathering metrics...\n"
     ]
    },
    {
     "name": "stderr",
     "output_type": "stream",
     "text": [
      "100%|██████████| 6672/6672 [09:07<00:00, 14.11it/s]\n"
     ]
    }
   ],
   "source": [
    "if not os.path.isfile(metrics_file):\n",
    "    print 'Gathering metrics...'; time.sleep(0.5)\n",
    "    mins, maxs, avg_wave = compute_metrics()\n",
    "    np.save(OUTPUT_DIRS['cache'] + '/metrics.npy', {'mins': mins, 'maxs': maxs, 'avg': avg_wave})"
   ]
  },
  {
   "cell_type": "code",
   "execution_count": 26,
   "metadata": {
    "collapsed": false
   },
   "outputs": [],
   "source": [
    "metrics = np.load(metrics_file).item()\n",
    "\n",
    "# compute thresholds for 99% of mins/maxs\n",
    "max_threshold = np.percentile(metrics['maxs'], 99)\n",
    "min_threshold = -np.percentile(np.abs(metrics['mins']), 99)\n",
    "avg_wave = metrics['avg']"
   ]
  },
  {
   "cell_type": "code",
   "execution_count": null,
   "metadata": {
    "collapsed": false
   },
   "outputs": [
    {
     "name": "stdout",
     "output_type": "stream",
     "text": [
      "Processing waveforms...\n"
     ]
    },
    {
     "name": "stderr",
     "output_type": "stream",
     "text": [
      " 87%|████████▋ | 5834/6672 [09:34<01:32,  9.04it/s]"
     ]
    }
   ],
   "source": [
    "# process waveforms\n",
    "\n",
    "print 'Processing waveforms...'; time.sleep(0.5)\n",
    "\n",
    "scale_factor = max(max_threshold, abs(min_threshold))\n",
    "\n",
    "for f in tqdm(all_paths):\n",
    "    fid = re.findall(r'[^/]+\\.mat$', f)[0]\n",
    "    waves = read_mat(f)\n",
    "\n",
    "    # subtract mean\n",
    "    waves = np.subtract(waves, avg_wave)\n",
    "    # clip\n",
    "    waves = np.clip(waves, min_threshold, max_threshold)\n",
    "    # scale\n",
    "    waves = np.divide(waves, scale_factor)\n",
    "    \n",
    "    # save\n",
    "    out_f = OUTPUT_DIRS['waveforms'] + '/' + fid + '.mem'\n",
    "    waves.tofile(out_f)"
   ]
  },
  {
   "cell_type": "code",
   "execution_count": null,
   "metadata": {
    "collapsed": true
   },
   "outputs": [],
   "source": []
  }
 ],
 "metadata": {
  "kernelspec": {
   "display_name": "Python 2",
   "language": "python",
   "name": "python2"
  },
  "language_info": {
   "codemirror_mode": {
    "name": "ipython",
    "version": 2
   },
   "file_extension": ".py",
   "mimetype": "text/x-python",
   "name": "python",
   "nbconvert_exporter": "python",
   "pygments_lexer": "ipython2",
   "version": "2.7.6"
  }
 },
 "nbformat": 4,
 "nbformat_minor": 1
}
