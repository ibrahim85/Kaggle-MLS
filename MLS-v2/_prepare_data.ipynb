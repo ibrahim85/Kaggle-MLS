{
 "cells": [
  {
   "cell_type": "code",
   "execution_count": 15,
   "metadata": {
    "collapsed": false
   },
   "outputs": [],
   "source": [
    "import os\n",
    "import re\n",
    "import time\n",
    "import numpy as np\n",
    "from scipy import io\n",
    "from tqdm import tqdm\n",
    "from scipy import signal\n",
    "import matplotlib.pyplot as plt\n",
    "%matplotlib inline"
   ]
  },
  {
   "cell_type": "code",
   "execution_count": 16,
   "metadata": {
    "collapsed": true
   },
   "outputs": [],
   "source": [
    "INPUT_DIRS = [\n",
    "    '/datasets/kaggle/mls/train_1',\n",
    "    '/datasets/kaggle/mls/train_2',\n",
    "    '/datasets/kaggle/mls/train_3',\n",
    "    '/datasets/kaggle/mls/test_1',\n",
    "    '/datasets/kaggle/mls/test_2',\n",
    "    '/datasets/kaggle/mls/test_3'\n",
    "]\n",
    "\n",
    "OUTPUT_DIRS = {\n",
    "    'waveforms': 'out/waveforms',\n",
    "    'cache': 'out/'\n",
    "}\n",
    "\n",
    "N_SAMPLES = 240000\n",
    "SAMPLING_RATE = 400\n",
    "N_CHANNELS = 16"
   ]
  },
  {
   "cell_type": "code",
   "execution_count": 17,
   "metadata": {
    "collapsed": false
   },
   "outputs": [],
   "source": [
    "# make sure output dirs exist\n",
    "for v in OUTPUT_DIRS.values(): \n",
    "    if not os.path.isdir(v): \n",
    "        os.makedirs(v)"
   ]
  },
  {
   "cell_type": "code",
   "execution_count": 18,
   "metadata": {
    "collapsed": true
   },
   "outputs": [],
   "source": [
    "# list files in directories\n",
    "def list_files(src_dirs):\n",
    "\n",
    "    if not list == type(src_dirs): src_dirs = [src_dirs]\n",
    "    \n",
    "    f = []\n",
    "    \n",
    "    for d in src_dirs:\n",
    "        df = []\n",
    "        for (dirpath, dirnames, filenames) in os.walk(d):\n",
    "            filenames = [dirpath + '/' + x for x in filenames]\n",
    "            df.extend(filenames)\n",
    "        f.extend(df)\n",
    "    \n",
    "    return f"
   ]
  },
  {
   "cell_type": "code",
   "execution_count": 19,
   "metadata": {
    "collapsed": true
   },
   "outputs": [],
   "source": [
    "def read_mat(f):\n",
    "    mat = io.loadmat(f)\n",
    "    \n",
    "    sampling_rate = int(mat['dataStruct'][0, 0][1][0, 0])\n",
    "    n_samples = int(mat['dataStruct'][0, 0][2][0, 0])\n",
    "    ch_indexes = np.int8(mat['dataStruct'][0, 0][3][0])\n",
    "    \n",
    "    # make sure all files have the same format\n",
    "    assert(sampling_rate == SAMPLING_RATE)\n",
    "    assert(n_samples == N_SAMPLES)\n",
    "    assert(len(ch_indexes) == N_CHANNELS)\n",
    "    \n",
    "    data = mat['dataStruct'][0, 0][0].T\n",
    "    \n",
    "    waves = np.zeros([len(ch_indexes), n_samples], dtype=np.float32)\n",
    "    \n",
    "    for i in range(len(ch_indexes)):\n",
    "        waves[i] = data[ch_indexes[i] - 1]  \n",
    "        \n",
    "    return waves"
   ]
  },
  {
   "cell_type": "code",
   "execution_count": 20,
   "metadata": {
    "collapsed": false
   },
   "outputs": [],
   "source": [
    "def compute_metrics():\n",
    "    n_waves = 0\n",
    "    avg_wave = np.zeros(N_SAMPLES, dtype=np.float32)\n",
    "    maxs = []\n",
    "    mins = []\n",
    "\n",
    "    for f in tqdm(list_files(INPUT_DIRS)):\n",
    "        n_waves += 1\n",
    "        waves = read_mat(f)\n",
    "        \n",
    "        # mins/maxs\n",
    "        maxs.append(np.max(waves, axis=1))\n",
    "        mins.append(np.min(waves, axis=1))\n",
    "        \n",
    "        # mean, median\n",
    "        \n",
    "        # compute avg wave\n",
    "        cur_avg_wave = np.divide(np.sum(waves, axis=0), len(waves))\n",
    "        sum_all_waves = np.sum((np.multiply(avg_wave, n_waves - 1), cur_avg_wave), axis=0)\n",
    "        avg_wave = np.divide(sum_all_waves, n_waves)\n",
    "        \n",
    "    return np.array(mins, dtype=np.float32),\\\n",
    "        np.array(maxs, dtype=np.float32),\\\n",
    "        avg_wave"
   ]
  },
  {
   "cell_type": "code",
   "execution_count": 21,
   "metadata": {
    "collapsed": true
   },
   "outputs": [],
   "source": [
    "metrics_file = OUTPUT_DIRS['cache'] + '/metrics.npy'"
   ]
  },
  {
   "cell_type": "code",
   "execution_count": 22,
   "metadata": {
    "collapsed": false
   },
   "outputs": [],
   "source": [
    "if not os.path.isfile(metrics_file):\n",
    "    print 'Gathering metrics...'; time.sleep(0.5)\n",
    "    mins, maxs, avg_wave = compute_metrics()\n",
    "    np.save(OUTPUT_DIRS['cache'] + '/metrics.npy', {'mins': mins, 'maxs': maxs, 'avg': avg_wave})"
   ]
  },
  {
   "cell_type": "code",
   "execution_count": 23,
   "metadata": {
    "collapsed": true
   },
   "outputs": [],
   "source": [
    "metrics = np.load(metrics_file).item()\n",
    "\n",
    "# compute thresholds for 99% of mins/maxs\n",
    "max_threshold = np.percentile(metrics['maxs'], 95)\n",
    "min_threshold = -np.percentile(np.abs(metrics['mins']), 95)\n",
    "avg_wave = metrics['avg']"
   ]
  },
  {
   "cell_type": "code",
   "execution_count": 24,
   "metadata": {
    "collapsed": false
   },
   "outputs": [
    {
     "data": {
      "text/plain": [
       "501.91470794677718"
      ]
     },
     "execution_count": 24,
     "metadata": {},
     "output_type": "execute_result"
    }
   ],
   "source": [
    "max_threshold"
   ]
  },
  {
   "cell_type": "code",
   "execution_count": 25,
   "metadata": {
    "collapsed": false
   },
   "outputs": [
    {
     "data": {
      "text/plain": [
       "-917.95163574218748"
      ]
     },
     "execution_count": 25,
     "metadata": {},
     "output_type": "execute_result"
    }
   ],
   "source": [
    "min_threshold"
   ]
  },
  {
   "cell_type": "code",
   "execution_count": 27,
   "metadata": {
    "collapsed": false
   },
   "outputs": [
    {
     "name": "stdout",
     "output_type": "stream",
     "text": [
      "Processing waveforms...\n"
     ]
    },
    {
     "name": "stderr",
     "output_type": "stream",
     "text": [
      "  0%|          | 0/12168 [00:00<?, ?it/s]\n"
     ]
    }
   ],
   "source": [
    "# process waveforms\n",
    "\n",
    "print 'Processing waveforms...'; time.sleep(0.5)\n",
    "\n",
    "scale_factor = max(max_threshold, abs(min_threshold))\n",
    "\n",
    "for f in tqdm(list_files(INPUT_DIRS)):\n",
    "    fid = re.findall(r'([\\d_]+)\\.mat$', f)[0]\n",
    "    waves = read_mat(f)\n",
    "    \n",
    "    break\n",
    "\n",
    "    # subtract mean\n",
    "    waves = np.subtract(waves, avg_wave)\n",
    "    # clip\n",
    "    waves = np.clip(waves, min_threshold, max_threshold)\n",
    "    # scale\n",
    "    waves = np.divide(waves, scale_factor)\n",
    "    \n",
    "    # save\n",
    "    out_f = OUTPUT_DIRS['waveforms'] + '/' + fid\n",
    "    np.save(out_f, waves)"
   ]
  },
  {
   "cell_type": "code",
   "execution_count": 31,
   "metadata": {
    "collapsed": false
   },
   "outputs": [],
   "source": [
    "w = waves[0]\n",
    "w = np.subtract(w, avg_wave)\n"
   ]
  },
  {
   "cell_type": "code",
   "execution_count": 50,
   "metadata": {
    "collapsed": false
   },
   "outputs": [],
   "source": [
    "ma = np.max(waves, axis=1)\n",
    "mi = np.min(waves, axis=1)"
   ]
  },
  {
   "cell_type": "code",
   "execution_count": 51,
   "metadata": {
    "collapsed": false
   },
   "outputs": [],
   "source": [
    "scale = np.max([np.abs(ma), np.abs(mi)], axis=0)"
   ]
  },
  {
   "cell_type": "code",
   "execution_count": 53,
   "metadata": {
    "collapsed": false
   },
   "outputs": [
    {
     "data": {
      "text/plain": [
       "[<matplotlib.lines.Line2D at 0x7fa1f6bcafd0>]"
      ]
     },
     "execution_count": 53,
     "metadata": {},
     "output_type": "execute_result"
    },
    {
     "data": {
      "image/png": "[encoded data removed]",
      "text/plain": [
       "<matplotlib.figure.Figure at 0x7fa1f6d0fb50>"
      ]
     },
     "metadata": {},
     "output_type": "display_data"
    }
   ],
   "source": [
    "plt.plot(ma)\n",
    "plt.plot(np.abs(mi))\n",
    "plt.plot(scale)"
   ]
  },
  {
   "cell_type": "code",
   "execution_count": 54,
   "metadata": {
    "collapsed": false
   },
   "outputs": [
    {
     "data": {
      "text/plain": [
       "[<matplotlib.lines.Line2D at 0x7fa1f6b0b710>]"
      ]
     },
     "execution_count": 54,
     "metadata": {},
     "output_type": "execute_result"
    },
    {
     "data": {
      "image/png": "[encoded data removed]",
      "text/plain": [
       "<matplotlib.figure.Figure at 0x7fa1f6b271d0>"
      ]
     },
     "metadata": {},
     "output_type": "display_data"
    }
   ],
   "source": []
  },
  {
   "cell_type": "code",
   "execution_count": null,
   "metadata": {
    "collapsed": true
   },
   "outputs": [],
   "source": [
    "import"
   ]
  }
 ],
 "metadata": {
  "kernelspec": {
   "display_name": "Python 2",
   "language": "python",
   "name": "python2"
  },
  "language_info": {
   "codemirror_mode": {
    "name": "ipython",
    "version": 2
   },
   "file_extension": ".py",
   "mimetype": "text/x-python",
   "name": "python",
   "nbconvert_exporter": "python",
   "pygments_lexer": "ipython2",
   "version": "2.7.6"
  }
 },
 "nbformat": 4,
 "nbformat_minor": 1
}
