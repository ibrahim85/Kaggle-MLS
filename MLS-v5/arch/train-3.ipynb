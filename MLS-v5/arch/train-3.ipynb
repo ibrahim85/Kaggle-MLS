{
 "cells": [
  {
   "cell_type": "code",
   "execution_count": 1,
   "metadata": {
    "collapsed": false
   },
   "outputs": [
    {
     "name": "stderr",
     "output_type": "stream",
     "text": [
      "Using TensorFlow backend.\n",
      "/usr/local/lib/python2.7/dist-packages/matplotlib/font_manager.py:273: UserWarning: Matplotlib is building the font cache using fc-list. This may take a moment.\n",
      "  warnings.warn('Matplotlib is building the font cache using fc-list. This may take a moment.')\n"
     ]
    }
   ],
   "source": [
    "import keras\n",
    "import numpy as np\n",
    "import matplotlib.pyplot as plt\n",
    "%matplotlib inline\n",
    "from tqdm import tqdm\n",
    "from sklearn import metrics\n",
    "import time"
   ]
  },
  {
   "cell_type": "code",
   "execution_count": 2,
   "metadata": {
    "collapsed": false
   },
   "outputs": [],
   "source": [
    "from keras.layers import Input, Dense, Convolution2D, \\\n",
    "    MaxPooling2D, UpSampling2D, BatchNormalization, Dropout, \\\n",
    "    UpSampling2D, Layer, Flatten, Activation, Reshape, GRU\n",
    "from keras.models import Model, Sequential\n",
    "from keras import backend as K\n",
    "from keras.layers.advanced_activations import ELU\n",
    "from keras.callbacks import TensorBoard"
   ]
  },
  {
   "cell_type": "code",
   "execution_count": 3,
   "metadata": {
    "collapsed": true
   },
   "outputs": [],
   "source": [
    "RAND_SEED = 777\n",
    "np.random.seed(RAND_SEED)"
   ]
  },
  {
   "cell_type": "code",
   "execution_count": 4,
   "metadata": {
    "collapsed": true
   },
   "outputs": [],
   "source": [
    "IMG_SHAPE = (96, 2048, 1)\n",
    "N_CH = 16\n",
    "\n",
    "# axis 0 is batch sample index\n",
    "AXIS_FREQ = 1\n",
    "AXIS_TIME = 2\n",
    "AXIS_CH = 3\n",
    "\n",
    "VAL_DATA_FILE = 'out/val-msgs.mem'\n",
    "VAL_YS_FILE = 'out/val-ys.mem'\n",
    "\n",
    "N_TRAIN_FILES = 1\n",
    "TRAIN_DATA_FILE = 'out/train-msgs-%d.mem'\n",
    "TRAIN_YS_FILE = 'out/train-ys-%d.npy'\n",
    "\n",
    "MODEL_PATH = 'out/models/c-f%d-e%d-auc%.5f'"
   ]
  },
  {
   "cell_type": "code",
   "execution_count": 5,
   "metadata": {
    "collapsed": false
   },
   "outputs": [],
   "source": [
    "# load validation data\n",
    "# X_val = np.memmap(VAL_DATA_FILE, dtype=np.float32, mode='r+').reshape((-1,) + IMG_SHAPE)\n",
    "# y_val = np.fromfile(VAL_YS_FILE, dtype=np.float32).reshape(-1, 2)"
   ]
  },
  {
   "cell_type": "code",
   "execution_count": 6,
   "metadata": {
    "collapsed": true
   },
   "outputs": [],
   "source": [
    "scores = []"
   ]
  },
  {
   "cell_type": "code",
   "execution_count": 7,
   "metadata": {
    "collapsed": true
   },
   "outputs": [],
   "source": [
    "def score_auc():\n",
    "    s = 0\n",
    "    n = X_val.shape[0]\n",
    "    \n",
    "    print '\\n'\n",
    "    y_p = model.predict(X_val[s:s+n], verbose=True, batch_size=32)\n",
    "    y_p = np.nan_to_num(y_p)\n",
    "    return metrics.roc_auc_score(y_val[s:s+n].T[0], y_p.T[0])"
   ]
  },
  {
   "cell_type": "code",
   "execution_count": 8,
   "metadata": {
    "collapsed": true
   },
   "outputs": [],
   "source": [
    "class MyCallback(keras.callbacks.Callback):\n",
    "    def _validate(self, epoch):\n",
    "        s = score_auc()\n",
    "        scores.append(s)\n",
    "        np.save('out/scores.npy', scores)\n",
    "        print \"\\n\\n AUC = %.5f\\n\"%(s)\n",
    "        if True or len(scores) == 0 or s >= max(scores):\n",
    "            f = MODEL_PATH%(train_file_n, epoch, s)\n",
    "            print 'Saving to: ', f, '\\n'\n",
    "            model.save(f)\n",
    "#     def on_train_begin(self, epoch, logs={}):\n",
    "#         self._validate(0)\n",
    "    def on_epoch_end(self, epoch, logs={}):\n",
    "        self._validate(1 + epoch)\n",
    "    def on_epoch_begin(self, epoch, logs={}):\n",
    "        print '\\n'"
   ]
  },
  {
   "cell_type": "code",
   "execution_count": 9,
   "metadata": {
    "collapsed": false
   },
   "outputs": [],
   "source": [
    "model = Sequential()\n",
    "\n",
    "model.add(BatchNormalization(axis=AXIS_TIME, input_shape=IMG_SHAPE))\n",
    "\n",
    "# conv 1\n",
    "model.add(Convolution2D(64, 5, 5, border_mode='same', activation='relu'))\n",
    "model.add(MaxPooling2D(pool_size=(1,4)))\n",
    "\n",
    "# conv 2\n",
    "model.add(Convolution2D(128, 5, 5, border_mode='same', activation='relu'))\n",
    "model.add(MaxPooling2D(pool_size=(2,4)))\n",
    "\n",
    "# conv 3\n",
    "model.add(Convolution2D(128, 5, 5, border_mode='same', activation='relu'))\n",
    "model.add(MaxPooling2D(pool_size=(2,4)))\n",
    "\n",
    "# conv 4\n",
    "model.add(Convolution2D(192, 5, 5, border_mode='same', activation='relu'))\n",
    "model.add(MaxPooling2D(pool_size=(2,4)))\n",
    "\n",
    "# conv 5\n",
    "model.add(Convolution2D(256, 5, 5, border_mode='same', activation='relu'))\n",
    "model.add(MaxPooling2D(pool_size=(2,2)))\n",
    "\n",
    "model.add(Reshape((6*4,256)))\n",
    "\n",
    "model.add(GRU(32, return_sequences=True))\n",
    "model.add(GRU(32, return_sequences=False))\n",
    "\n",
    "model.add(Dropout(0.5))\n",
    "\n",
    "model.add(Dense(2, activation='sigmoid'))\n",
    "model.add(Activation('softmax'))"
   ]
  },
  {
   "cell_type": "code",
   "execution_count": 10,
   "metadata": {
    "collapsed": false
   },
   "outputs": [],
   "source": [
    "# model.output_shape"
   ]
  },
  {
   "cell_type": "code",
   "execution_count": null,
   "metadata": {
    "collapsed": false
   },
   "outputs": [],
   "source": [
    "model.compile(optimizer='SGD', loss='binary_crossentropy')"
   ]
  },
  {
   "cell_type": "code",
   "execution_count": null,
   "metadata": {
    "collapsed": false
   },
   "outputs": [
    {
     "name": "stdout",
     "output_type": "stream",
     "text": [
      "Using file out/train-msgs-1.mem\n",
      "Epoch 1/75\n",
      "96640/96672 [============================>.] - ETA: 1s - loss: 0.4040Epoch 00000: saving model to out/models/c-e00-l0.40399.hdf5\n",
      "96672/96672 [==============================] - 4163s - loss: 0.4040  \n",
      "Epoch 2/75\n",
      "82784/96672 [========================>.....] - ETA: 602s - loss: 0.3898"
     ]
    }
   ],
   "source": [
    "for train_file_n in range(N_TRAIN_FILES):\n",
    "\n",
    "    X_file = TRAIN_DATA_FILE%(1 + train_file_n)\n",
    "    y_file = TRAIN_YS_FILE%(1 + train_file_n)\n",
    "    \n",
    "    print 'Using file', X_file\n",
    "    \n",
    "    X_train = np.memmap(X_file, dtype=np.float32, mode='r+')\n",
    "    X_train = X_train.reshape((-1,) + IMG_SHAPE)\n",
    "    y_train = np.fromfile(y_file, dtype=np.float32)\n",
    "    y_train = y_train.reshape(-1, 2)\n",
    "    \n",
    "    y_train = np.repeat(y_train, N_CH, axis=0)\n",
    "    \n",
    "#     X_train = X_train[:100]\n",
    "#     y_train = y_train[:100]\n",
    "    \n",
    "    model.fit(\n",
    "        X_train,\n",
    "        y_train,\n",
    "        batch_size=32,\n",
    "        nb_epoch=75,\n",
    "#         validation_data=(X_val, y_val),\n",
    "        shuffle=True,\n",
    "        callbacks=[\n",
    "            keras.callbacks.ModelCheckpoint(\n",
    "                'out/models/c-e{epoch:02d}-l{loss:.5f}.hdf5', monitor='loss', verbose=1,\n",
    "                save_best_only=False, save_weights_only=False, mode='auto'),\n",
    "            TensorBoard(log_dir='/tmp/tf-mls-c')\n",
    "        ]\n",
    "    )\n",
    "\n",
    "    del X_train\n",
    "    del y_train"
   ]
  },
  {
   "cell_type": "code",
   "execution_count": null,
   "metadata": {
    "collapsed": true
   },
   "outputs": [],
   "source": [
    "y_train.shape"
   ]
  },
  {
   "cell_type": "code",
   "execution_count": null,
   "metadata": {
    "collapsed": false
   },
   "outputs": [],
   "source": [
    "import matplotlib.cm as cm\n",
    "plt.imshow(np.flipud(d[0]), aspect=10)"
   ]
  },
  {
   "cell_type": "code",
   "execution_count": 4,
   "metadata": {
    "collapsed": false
   },
   "outputs": [
    {
     "data": {
      "text/plain": [
       "array([[1, 2],\n",
       "       [1, 2],\n",
       "       [1, 2],\n",
       "       [3, 4],\n",
       "       [3, 4],\n",
       "       [3, 4]])"
      ]
     },
     "execution_count": 4,
     "metadata": {},
     "output_type": "execute_result"
    }
   ],
   "source": [
    "np.repeat([[1,2],[3,4]], 3, axis=0)"
   ]
  },
  {
   "cell_type": "code",
   "execution_count": 18,
   "metadata": {
    "collapsed": false
   },
   "outputs": [
    {
     "data": {
      "text/plain": [
       "(96672, 96, 2048, 1)"
      ]
     },
     "execution_count": 18,
     "metadata": {},
     "output_type": "execute_result"
    }
   ],
   "source": [
    "X_train.shape"
   ]
  },
  {
   "cell_type": "code",
   "execution_count": 19,
   "metadata": {
    "collapsed": false
   },
   "outputs": [
    {
     "data": {
      "text/plain": [
       "(96672, 2)"
      ]
     },
     "execution_count": 19,
     "metadata": {},
     "output_type": "execute_result"
    }
   ],
   "source": [
    "y_train.shape"
   ]
  },
  {
   "cell_type": "code",
   "execution_count": null,
   "metadata": {
    "collapsed": true
   },
   "outputs": [],
   "source": []
  }
 ],
 "metadata": {
  "kernelspec": {
   "display_name": "Python 2",
   "language": "python",
   "name": "python2"
  },
  "language_info": {
   "codemirror_mode": {
    "name": "ipython",
    "version": 2
   },
   "file_extension": ".py",
   "mimetype": "text/x-python",
   "name": "python",
   "nbconvert_exporter": "python",
   "pygments_lexer": "ipython2",
   "version": "2.7.6"
  }
 },
 "nbformat": 4,
 "nbformat_minor": 1
}
