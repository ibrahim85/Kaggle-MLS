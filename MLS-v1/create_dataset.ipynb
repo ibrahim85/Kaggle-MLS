{
 "cells": [
  {
   "cell_type": "code",
   "execution_count": 1,
   "metadata": {
    "collapsed": false
   },
   "outputs": [
    {
     "name": "stderr",
     "output_type": "stream",
     "text": [
      "Using TensorFlow backend.\n"
     ]
    }
   ],
   "source": [
    "import os\n",
    "import re\n",
    "import time\n",
    "import keras\n",
    "import numpy as np\n",
    "from tqdm import tqdm\n",
    "import tensorflow as tf\n",
    "import matplotlib.pyplot as plt\n",
    "%matplotlib inline"
   ]
  },
  {
   "cell_type": "code",
   "execution_count": 2,
   "metadata": {
    "collapsed": true
   },
   "outputs": [],
   "source": [
    "RND_SEED = 12345\n",
    "\n",
    "N_SAMPLES = 240000\n",
    "N_CHANNELS = 16\n",
    "\n",
    "WAVEFORMS_DIR = 'out/waveforms'\n",
    "SAMPLES_PER_FILE = 1375\n",
    "TRAIN_WAVEFORMS_FILE = 'out/train-waveforms-%d.mem'\n",
    "TRAIN_YS_FILE = 'out/train-ys-%d.npy'\n",
    "VALIDATION_SIZE = 642\n",
    "VALIDATION_WAVEFORMS_FILE = 'out/val-waveforms.mem'\n",
    "VALIDATION_YS_FILE = 'out/val-ys.mem'"
   ]
  },
  {
   "cell_type": "code",
   "execution_count": 3,
   "metadata": {
    "collapsed": true
   },
   "outputs": [],
   "source": [
    "np.random.seed(RND_SEED)"
   ]
  },
  {
   "cell_type": "code",
   "execution_count": 4,
   "metadata": {
    "collapsed": true
   },
   "outputs": [],
   "source": [
    "# list files in directories\n",
    "def list_files(src_dirs):\n",
    "\n",
    "    if not list == type(src_dirs): src_dirs = [src_dirs]\n",
    "    \n",
    "    f = []\n",
    "    \n",
    "    for d in src_dirs:\n",
    "        df = []\n",
    "        for (dirpath, dirnames, filenames) in os.walk(d):\n",
    "            filenames = [dirpath + '/' + x for x in filenames]\n",
    "            df.extend(filenames)\n",
    "        f.extend(df)\n",
    "    \n",
    "    return f"
   ]
  },
  {
   "cell_type": "code",
   "execution_count": 5,
   "metadata": {
    "collapsed": false
   },
   "outputs": [
    {
     "name": "stderr",
     "output_type": "stream",
     "text": [
      "100%|██████████| 12168/12168 [00:00<00:00, 430940.56it/s]\n"
     ]
    }
   ],
   "source": [
    "# create list of fids+ys for training\n",
    "train_items = []\n",
    "\n",
    "for f in tqdm(list_files(WAVEFORMS_DIR)):\n",
    "    \n",
    "    m = re.findall(r'(\\d+)_(\\d+)_(\\d+)\\.npy$', f)\n",
    "    \n",
    "    if len(m) > 0:\n",
    "        fid = \"%s_%s_%s\"%(m[0])\n",
    "        y = float(m[0][-1])\n",
    "        train_items.append([fid, y])\n",
    "        \n",
    "np.random.shuffle(train_items)\n",
    "# train_items = np.array(train_items, dtype=np.object)"
   ]
  },
  {
   "cell_type": "code",
   "execution_count": 6,
   "metadata": {
    "collapsed": false
   },
   "outputs": [
    {
     "name": "stdout",
     "output_type": "stream",
     "text": [
      "Total training items: 6042 \n",
      "\n"
     ]
    },
    {
     "name": "stderr",
     "output_type": "stream",
     "text": [
      "100%|██████████| 642/642 [00:42<00:00, 15.17it/s]\n"
     ]
    },
    {
     "name": "stdout",
     "output_type": "stream",
     "text": [
      "flushing... \n",
      "Created  out/val-waveforms.mem out/val-ys.mem\n"
     ]
    },
    {
     "name": "stderr",
     "output_type": "stream",
     "text": [
      "100%|██████████| 1375/1375 [01:53<00:00, 12.06it/s]\n"
     ]
    },
    {
     "name": "stdout",
     "output_type": "stream",
     "text": [
      "flushing... \n",
      "Created  out/train-waveforms-1.mem out/train-ys-1.npy\n"
     ]
    },
    {
     "name": "stderr",
     "output_type": "stream",
     "text": [
      "100%|██████████| 1375/1375 [01:52<00:00, 12.24it/s]\n"
     ]
    },
    {
     "name": "stdout",
     "output_type": "stream",
     "text": [
      "flushing... \n",
      "Created  out/train-waveforms-2.mem out/train-ys-2.npy\n"
     ]
    },
    {
     "name": "stderr",
     "output_type": "stream",
     "text": [
      "100%|██████████| 1375/1375 [01:55<00:00, 11.70it/s]\n"
     ]
    },
    {
     "name": "stdout",
     "output_type": "stream",
     "text": [
      "flushing... \n",
      "Created  out/train-waveforms-3.mem out/train-ys-3.npy\n"
     ]
    },
    {
     "name": "stderr",
     "output_type": "stream",
     "text": [
      "100%|██████████| 1275/1275 [01:41<00:00, 12.60it/s]\n"
     ]
    },
    {
     "name": "stdout",
     "output_type": "stream",
     "text": [
      "flushing... \n",
      "Created  out/train-waveforms-4.mem out/train-ys-4.npy\n"
     ]
    }
   ],
   "source": [
    "# create dataset files\n",
    "\n",
    "print 'Total training items:', len(train_items), '\\n'; time.sleep(0.5)\n",
    "\n",
    "i = 0\n",
    "validation_set_created = False\n",
    "\n",
    "while len(train_items):\n",
    "\n",
    "    \n",
    "    if validation_set_created:\n",
    "        i += 1\n",
    "        waveforms_f = TRAIN_WAVEFORMS_FILE%(i)\n",
    "        ys_f = TRAIN_YS_FILE%(i)\n",
    "        portion = train_items[:SAMPLES_PER_FILE]\n",
    "        train_items = train_items[SAMPLES_PER_FILE:]\n",
    "    else:\n",
    "        portion = train_items[:VALIDATION_SIZE]\n",
    "        train_items = train_items[VALIDATION_SIZE:]\n",
    "        waveforms_f = VALIDATION_WAVEFORMS_FILE\n",
    "        ys_f = VALIDATION_YS_FILE\n",
    "        validation_set_created = True\n",
    "    \n",
    "    waves = np.memmap(\n",
    "        waveforms_f, \n",
    "        dtype=np.float32, \n",
    "        mode='w+', \n",
    "        shape=(len(portion), N_CHANNELS, N_SAMPLES)\n",
    "    )\n",
    "    \n",
    "    ys = np.zeros([len(portion), 2], dtype=np.float32)\n",
    "    \n",
    "    w = 0\n",
    "\n",
    "    for x in tqdm(portion):\n",
    "        fid = x[0]\n",
    "        y = [x[1], 1. - x[1]]\n",
    "        waves[w] = np.load(WAVEFORMS_DIR + '/' + fid + '.npy')\n",
    "        ys[w] = y\n",
    "        w += 1\n",
    "        \n",
    "    print 'flushing... '\n",
    "    waves.flush()\n",
    "    ys.tofile(ys_f)\n",
    "    print 'Created ', waveforms_f, ys_f; time.sleep(0.5)"
   ]
  },
  {
   "cell_type": "code",
   "execution_count": null,
   "metadata": {
    "collapsed": true
   },
   "outputs": [],
   "source": []
  }
 ],
 "metadata": {
  "kernelspec": {
   "display_name": "Python 2",
   "language": "python",
   "name": "python2"
  },
  "language_info": {
   "codemirror_mode": {
    "name": "ipython",
    "version": 2
   },
   "file_extension": ".py",
   "mimetype": "text/x-python",
   "name": "python",
   "nbconvert_exporter": "python",
   "pygments_lexer": "ipython2",
   "version": "2.7.6"
  }
 },
 "nbformat": 4,
 "nbformat_minor": 1
}
